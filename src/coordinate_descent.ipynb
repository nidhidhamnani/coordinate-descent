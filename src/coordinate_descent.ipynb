{
 "cells": [
  {
   "cell_type": "code",
   "execution_count": 15,
   "id": "bf982554",
   "metadata": {},
   "outputs": [],
   "source": [
    "from sklearn.datasets import load_wine\n",
    "from sklearn.linear_model import LogisticRegression\n",
    "from sklearn.metrics import log_loss\n",
    "import math\n",
    "import numpy as np\n",
    "from sklearn import preprocessing\n",
    "from sklearn.metrics import accuracy_score\n",
    "import matplotlib.pyplot as plt\n",
    "import random"
   ]
  },
  {
   "cell_type": "code",
   "execution_count": 16,
   "id": "d7a0d2f0",
   "metadata": {},
   "outputs": [],
   "source": [
    "data = load_wine()\n",
    "X = []\n",
    "y = []"
   ]
  },
  {
   "cell_type": "code",
   "execution_count": 17,
   "id": "01ae041f",
   "metadata": {},
   "outputs": [],
   "source": [
    "for i in range(130):\n",
    "    X.append(data['data'][i])\n",
    "    if data['target'][i] == 0:\n",
    "        y.append(-1)\n",
    "    if data['target'][i] == 1:\n",
    "        y.append(1)"
   ]
  },
  {
   "cell_type": "code",
   "execution_count": 18,
   "id": "420a9f43",
   "metadata": {},
   "outputs": [],
   "source": [
    "scaler = preprocessing.StandardScaler()\n",
    "X = scaler.fit_transform(X)"
   ]
  },
  {
   "cell_type": "code",
   "execution_count": 19,
   "id": "10dc7436",
   "metadata": {},
   "outputs": [
    {
     "name": "stdout",
     "output_type": "stream",
     "text": [
      "5000\n",
      "[-4.80156685 -1.71843865 -3.64010213  4.5613607  -0.67709047  0.19250325\n",
      " -1.16351531  0.60412466  0.57423706 -1.96776244  0.44040263 -2.11995367\n",
      " -6.20684003]\n"
     ]
    }
   ],
   "source": [
    "w_t = [0]*13\n",
    "eta = 0.01\n",
    "count = 0\n",
    "x_axis = []\n",
    "y_axis_sgd = []\n",
    "while count < 5000:\n",
    "    count += 1\n",
    "    for i in range(130):\n",
    "        c = (eta*y[i])/(1+math.exp(y[i]*np.dot(w_t, X[i])))\n",
    "        v = [c*j for j in X[i]]\n",
    "        w_t = np.add(w_t, v)\n",
    "        \n",
    "    loss = 0\n",
    "    for i in range(130):\n",
    "        loss += math.log(1+math.exp(-1*y[i]*np.dot(w_t, X[i])))\n",
    "    y_axis_sgd.append(loss)\n",
    "    x_axis.append(count)\n",
    "    \n",
    "print(count)\n",
    "print(w_t)"
   ]
  },
  {
   "cell_type": "code",
   "execution_count": 20,
   "id": "88a43878",
   "metadata": {},
   "outputs": [
    {
     "name": "stdout",
     "output_type": "stream",
     "text": [
      "0.07695156503157798\n"
     ]
    }
   ],
   "source": [
    "print(y_axis_sgd[len(y_axis_sgd)-1])"
   ]
  },
  {
   "cell_type": "code",
   "execution_count": 21,
   "id": "01536475",
   "metadata": {},
   "outputs": [],
   "source": [
    "y_pred = []\n",
    "for i in range(130):\n",
    "    v =np.dot(w_t, X[i])\n",
    "    if v>0:\n",
    "        y_pred.append(1)\n",
    "    else:\n",
    "        y_pred.append(-1)"
   ]
  },
  {
   "cell_type": "code",
   "execution_count": 22,
   "id": "79d2ade6",
   "metadata": {},
   "outputs": [
    {
     "data": {
      "text/plain": [
       "1.0"
      ]
     },
     "execution_count": 22,
     "metadata": {},
     "output_type": "execute_result"
    }
   ],
   "source": [
    "accuracy_score(y, y_pred)"
   ]
  },
  {
   "cell_type": "code",
   "execution_count": 23,
   "id": "dbee7af3",
   "metadata": {},
   "outputs": [
    {
     "name": "stdout",
     "output_type": "stream",
     "text": [
      "5000\n",
      "[-3.196220639711379, -1.2013100217919972, -4.3538916274093475, 5.495416105889829, 0.12302392933730259, 0.036840355165491084, 0.4249055940107983, 1.2757959751613541, -0.6859161034696151, -0.8364580012065207, -0.9476322953708065, -2.3218979204350623, -2.3631148867993073]\n"
     ]
    }
   ],
   "source": [
    "w_t = [0]*13\n",
    "eta = 0.001\n",
    "count = 0\n",
    "x_axis = []\n",
    "y_axis_cd = []\n",
    "while count < 5000:\n",
    "    count += 1\n",
    "    for i in range(130):\n",
    "        c = (y[i])/(1+math.exp(y[i]*np.dot(w_t, X[i])))\n",
    "        v = [abs(c*j) for j in X[i]]\n",
    "        v_new = [c*j for j in X[i]]\n",
    "        max_index = np.argmax(v)\n",
    "        w_t[max_index] += eta*v_new[max_index]\n",
    "\n",
    "    loss = 0\n",
    "    for i in range(130):\n",
    "        loss += math.log(1+math.exp(-1*y[i]*np.dot(w_t, X[i])))\n",
    "    y_axis_cd.append(loss)\n",
    "    x_axis.append(count)\n",
    "    \n",
    "print(count)\n",
    "print(w_t)"
   ]
  },
  {
   "cell_type": "code",
   "execution_count": 24,
   "id": "3ce362bf",
   "metadata": {},
   "outputs": [
    {
     "name": "stdout",
     "output_type": "stream",
     "text": [
      "1.7523728934657863\n"
     ]
    }
   ],
   "source": [
    "print(y_axis_cd[len(y_axis_cd)-1])"
   ]
  },
  {
   "cell_type": "code",
   "execution_count": 25,
   "id": "b63d99f5",
   "metadata": {},
   "outputs": [
    {
     "name": "stdout",
     "output_type": "stream",
     "text": [
      "5000\n",
      "[-1.6677695198116818, -0.5240027793219737, -0.9490688588454765, 1.29836004296092, -0.25812628112798014, -0.07686962553713074, -0.3543709300539891, 0.1458224980827075, 0.18644950787121145, -1.0139654098537167, 0.15149546331315983, -0.6214625781299163, -1.8744128930989876]\n"
     ]
    }
   ],
   "source": [
    "w_t = [0]*13\n",
    "eta = 0.001\n",
    "count = 0\n",
    "x_axis = []\n",
    "y_axis_rd = []\n",
    "while count < 5000:\n",
    "    count += 1\n",
    "    for i in range(130):\n",
    "        c = (y[i])/(1+math.exp(y[i]*np.dot(w_t, X[i])))\n",
    "        v = [abs(c*j) for j in X[i]]\n",
    "        v_new = [c*j for j in X[i]]\n",
    "        max_index = random.randint(0, 12)\n",
    "        w_t[max_index] += eta*v_new[max_index]\n",
    "\n",
    "    loss = 0\n",
    "    for i in range(130):\n",
    "        loss += math.log(1+math.exp(-1*y[i]*np.dot(w_t, X[i])))\n",
    "    y_axis_rd.append(loss)\n",
    "    x_axis.append(count)\n",
    "    \n",
    "print(count)\n",
    "print(w_t)"
   ]
  },
  {
   "cell_type": "code",
   "execution_count": 26,
   "id": "2a4ce425",
   "metadata": {},
   "outputs": [
    {
     "name": "stdout",
     "output_type": "stream",
     "text": [
      "4.041159637588551\n"
     ]
    }
   ],
   "source": [
    "print(y_axis_rd[len(y_axis_rd)-1])"
   ]
  },
  {
   "cell_type": "code",
   "execution_count": 27,
   "id": "22155275",
   "metadata": {},
   "outputs": [
    {
     "data": {
      "image/png": "[encoded data removed]",
      "text/plain": [
       "<Figure size 432x288 with 1 Axes>"
      ]
     },
     "metadata": {
      "needs_background": "light"
     },
     "output_type": "display_data"
    }
   ],
   "source": [
    "plt.plot(x_axis, y_axis_sgd, color='r', label='Log Loss of Stochastic Gradient Descent')\n",
    "plt.plot(x_axis, y_axis_cd, color='g', label='Log Loss of Proposed Coordinate Descent')\n",
    "plt.plot(x_axis, y_axis_rd, color='b', label='Log Loss of Random Coordinate Descent')\n",
    "plt.xlabel('Number of Iterations')\n",
    "plt.ylabel('Log Loss')\n",
    "plt.title('Log Loss vs Number of Iterations')\n",
    "plt.legend()\n",
    "plt.show()"
   ]
  }
 ],
 "metadata": {
  "kernelspec": {
   "display_name": "Python 3 (ipykernel)",
   "language": "python",
   "name": "python3"
  },
  "language_info": {
   "codemirror_mode": {
    "name": "ipython",
    "version": 3
   },
   "file_extension": ".py",
   "mimetype": "text/x-python",
   "name": "python",
   "nbconvert_exporter": "python",
   "pygments_lexer": "ipython3",
   "version": "3.7.10"
  }
 },
 "nbformat": 4,
 "nbformat_minor": 5
}
