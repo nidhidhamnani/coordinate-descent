{
 "cells": [
  {
   "cell_type": "code",
   "execution_count": 6,
   "id": "bf982554",
   "metadata": {},
   "outputs": [],
   "source": [
    "from sklearn.datasets import load_wine\n",
    "from sklearn.linear_model import LogisticRegression\n",
    "from sklearn.metrics import log_loss\n",
    "import math\n",
    "import numpy as np\n",
    "from sklearn import preprocessing\n",
    "from sklearn.metrics import accuracy_score\n",
    "import matplotlib.pyplot as plt\n",
    "import random"
   ]
  },
  {
   "cell_type": "code",
   "execution_count": 7,
   "id": "d7a0d2f0",
   "metadata": {},
   "outputs": [],
   "source": [
    "data = load_wine()\n",
    "X = []\n",
    "y = []"
   ]
  },
  {
   "cell_type": "code",
   "execution_count": 8,
   "id": "01ae041f",
   "metadata": {},
   "outputs": [],
   "source": [
    "for i in range(130):\n",
    "    X.append(data['data'][i])\n",
    "    if data['target'][i] == 0:\n",
    "        y.append(-1)\n",
    "    if data['target'][i] == 1:\n",
    "        y.append(1)"
   ]
  },
  {
   "cell_type": "code",
   "execution_count": 9,
   "id": "420a9f43",
   "metadata": {},
   "outputs": [],
   "source": [
    "scaler = preprocessing.StandardScaler()\n",
    "X = scaler.fit_transform(X)"
   ]
  },
  {
   "cell_type": "code",
   "execution_count": 10,
   "id": "10dc7436",
   "metadata": {},
   "outputs": [],
   "source": [
    "w_t = [0]*13\n",
    "eta = 0.1\n",
    "x_axis = []\n",
    "y_axis_sgd = []\n",
    "for count in range(10000):\n",
    "    count += 1\n",
    "    for i in range(130):\n",
    "        c = (eta*y[i])/(1+math.exp(y[i]*np.dot(w_t, X[i])))\n",
    "        v = [c*j for j in X[i]]\n",
    "        w_t = np.add(w_t, v)\n",
    "        \n",
    "    loss = 0\n",
    "    for i in range(130):\n",
    "        loss += math.log(1+math.exp(-1*y[i]*np.dot(w_t, X[i])))\n",
    "    y_axis_sgd.append(loss)\n",
    "    x_axis.append(count)"
   ]
  },
  {
   "cell_type": "code",
   "execution_count": 11,
   "id": "01536475",
   "metadata": {},
   "outputs": [],
   "source": [
    "y_pred = []\n",
    "for i in range(130):\n",
    "    v =np.dot(w_t, X[i])\n",
    "    if v>0:\n",
    "        y_pred.append(1)\n",
    "    else:\n",
    "        y_pred.append(-1)"
   ]
  },
  {
   "cell_type": "code",
   "execution_count": 12,
   "id": "79d2ade6",
   "metadata": {},
   "outputs": [
    {
     "data": {
      "text/plain": [
       "1.0"
      ]
     },
     "execution_count": 12,
     "metadata": {},
     "output_type": "execute_result"
    }
   ],
   "source": [
    "accuracy_score(y, y_pred)"
   ]
  },
  {
   "cell_type": "code",
   "execution_count": 13,
   "id": "dbee7af3",
   "metadata": {},
   "outputs": [],
   "source": [
    "w_t = [0]*13\n",
    "eta = 0.1\n",
    "x_axis = []\n",
    "y_axis_cd = []\n",
    "for count in range(10000):\n",
    "    for i in range(130):\n",
    "        c = (y[i])/(1+math.exp(y[i]*np.dot(w_t, X[i])))\n",
    "        v = [abs(c*j) for j in X[i]]\n",
    "        v_new = [c*j for j in X[i]]\n",
    "        max_index = np.argmax(v)\n",
    "        w_t[max_index] += eta*v_new[max_index]\n",
    "\n",
    "    loss = 0\n",
    "    for i in range(130):\n",
    "        loss += math.log(1+math.exp(-1*y[i]*np.dot(w_t, X[i])))\n",
    "    y_axis_cd.append(loss)\n",
    "    x_axis.append(count)\n"
   ]
  },
  {
   "cell_type": "code",
   "execution_count": 14,
   "id": "b63d99f5",
   "metadata": {},
   "outputs": [],
   "source": [
    "w_t = [0]*13\n",
    "eta = 0.1\n",
    "x_axis = []\n",
    "y_axis_rd = []\n",
    "for count in range(10000):\n",
    "    for i in range(130):\n",
    "        c = (y[i])/(1+math.exp(y[i]*np.dot(w_t, X[i])))\n",
    "        v = [abs(c*j) for j in X[i]]\n",
    "        v_new = [c*j for j in X[i]]\n",
    "        max_index = random.randint(0, 12)\n",
    "        w_t[max_index] += eta*v_new[max_index]\n",
    "\n",
    "    loss = 0\n",
    "    for i in range(130):\n",
    "        loss += math.log(1+math.exp(-1*y[i]*np.dot(w_t, X[i])))\n",
    "    y_axis_rd.append(loss)\n",
    "    x_axis.append(count)"
   ]
  },
  {
   "cell_type": "code",
   "execution_count": 15,
   "id": "22155275",
   "metadata": {},
   "outputs": [
    {
     "data": {
      "image/png": "[encoded data removed]",
      "text/plain": [
       "<Figure size 432x288 with 1 Axes>"
      ]
     },
     "metadata": {
      "needs_background": "light"
     },
     "output_type": "display_data"
    }
   ],
   "source": [
    "plt.plot(x_axis, y_axis_sgd, color='r', label='Log Loss of Stochastic Gradient Descent')\n",
    "plt.plot(x_axis, y_axis_cd, color='g', label='Log Loss of Proposed Coordinate Descent')\n",
    "plt.plot(x_axis, y_axis_rd, color='b', label='Log Loss of Random Coordinate Descent')\n",
    "plt.xlabel('Number of Iterations')\n",
    "plt.ylabel('Log Loss')\n",
    "plt.title('Log Loss vs Number of Iterations')\n",
    "plt.legend()\n",
    "plt.show()"
   ]
  }
 ],
 "metadata": {
  "kernelspec": {
   "display_name": "Python 3 (ipykernel)",
   "language": "python",
   "name": "python3"
  },
  "language_info": {
   "codemirror_mode": {
    "name": "ipython",
    "version": 3
   },
   "file_extension": ".py",
   "mimetype": "text/x-python",
   "name": "python",
   "nbconvert_exporter": "python",
   "pygments_lexer": "ipython3",
   "version": "3.7.10"
  }
 },
 "nbformat": 4,
 "nbformat_minor": 5
}
